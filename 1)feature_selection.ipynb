{
 "cells": [
  {
   "attachments": {},
   "cell_type": "markdown",
   "metadata": {},
   "source": [
    "# Radiomics machine learning study with a small sample size: Single random training-test set split may result in unreliable results\n",
    "\n",
    "## 1) Create selection frequency table"
   ]
  },
  {
   "cell_type": "code",
   "execution_count": 5,
   "metadata": {},
   "outputs": [],
   "source": [
    "import numpy as np\n",
    "import pandas as pd\n",
    "from sklearn.preprocessing import StandardScaler\n",
    "\n",
    "from tqdm import tqdm\n",
    "from sklearn.model_selection import train_test_split\n",
    "from sklearn.feature_selection import SelectFromModel\n",
    "from sklearn.svm import LinearSVC\n",
    "from sklearn.ensemble import RandomForestClassifier, AdaBoostClassifier\n",
    "from sklearn.linear_model import LogisticRegression"
   ]
  },
  {
   "cell_type": "code",
   "execution_count": 6,
   "metadata": {
    "colab": {
     "base_uri": "https://localhost:8080/",
     "height": 34
    },
    "colab_type": "code",
    "id": "JwTaLwunC30v",
    "outputId": "0d2a5d4f-c74a-4992-b3ba-d8a0e6a49ece"
   },
   "outputs": [
    {
     "name": "stdout",
     "output_type": "stream",
     "text": [
      "1) GBM vs. Metastasis dataset: \n",
      "     No. of samples and No. of features: (167, 558) \n",
      "     Proportions of GBM and Metastasis: 0.65 and 0.35 \n",
      "     \n",
      "2) Low- vs. High-grade meningioma dataset: \n",
      "     No. of samples and No. of features: (258, 186) \n",
      "     Proportions of Low-grade and High-grade: 0.63 and 0.37 \n",
      "     \n"
     ]
    }
   ],
   "source": [
    "# GvM = 'GBM vs. Metastasis' dataset\n",
    "# MEN = 'Low- vs. High-grade meningioma' dataset\n",
    "\n",
    "df_GvM = pd.read_csv('GvM_cohort.csv')\n",
    "X_GvM = df_GvM.iloc[:, 1:]\n",
    "y_GvM = df_GvM['Label']\n",
    "\n",
    "df_MEN = pd.read_csv('MEN_cohort.csv')\n",
    "X_MEN = df_MEN.iloc[:, 1:]\n",
    "y_MEN = df_MEN['Label']\n",
    "\n",
    "# scaling\n",
    "scaler = StandardScaler()\n",
    "X_GvM = pd.DataFrame(scaler.fit_transform(X_GvM, y_GvM), columns=X_GvM.columns)\n",
    "X_MEN = pd.DataFrame(scaler.fit_transform(X_MEN, y_MEN), columns=X_MEN.columns)\n",
    "\n",
    "print('1) GBM vs. Metastasis dataset: \\n \\\n",
    "    No. of samples and No. of features: {0} \\n \\\n",
    "    Proportions of GBM and Metastasis: {1} and {2} \\n \\\n",
    "    '.format(X_GvM.shape, \n",
    "              round((1 - np.mean(y_GvM)), 2), round(np.mean(y_GvM), 2)))\n",
    "     \n",
    "print('2) Low- vs. High-grade meningioma dataset: \\n \\\n",
    "    No. of samples and No. of features: {0} \\n \\\n",
    "    Proportions of Low-grade and High-grade: {1} and {2} \\n \\\n",
    "    '.format(X_MEN.shape, \n",
    "              round((1 - np.mean(y_MEN)), 2), round(np.mean(y_MEN), 2)))"
   ]
  },
  {
   "cell_type": "code",
   "execution_count": 27,
   "metadata": {},
   "outputs": [
    {
     "name": "stderr",
     "output_type": "stream",
     "text": [
      "100%|██████████| 10/10 [00:04<00:00,  2.16it/s]\n",
      "100%|██████████| 10/10 [00:02<00:00,  3.37it/s]\n"
     ]
    }
   ],
   "source": [
    "# define function\n",
    "def get_freq(X, y, n_rep):\n",
    "    \n",
    "    result_dict = {key: np.zeros(X.shape[1]) for key in ['SVC', 'RF', 'LASSO', 'ADA']}\n",
    "\n",
    "    for rs in tqdm(range(n_rep)):\n",
    "        X_train, X_test, y_train, y_test = \\\n",
    "              train_test_split(X, y, test_size=0.3, stratify=y, shuffle=True, random_state=rs)\n",
    "\n",
    "        # 4 feature selectors based on linear SVC, random forest, LASSO, and adaptive boosting \n",
    "        svc = SelectFromModel(LinearSVC(max_iter=10000, dual=False, random_state=0))\n",
    "        rf = SelectFromModel(RandomForestClassifier(random_state=0))\n",
    "        lr = SelectFromModel(LogisticRegression(penalty='l1', solver='liblinear',\n",
    "                                                max_iter=10000, dual=False, random_state=0))\n",
    "        ada = SelectFromModel(AdaBoostClassifier(random_state=0))\n",
    "\n",
    "        # add one count to each of the selected features\n",
    "        result_dict['SVC'] = np.add(result_dict['SVC'], svc.fit(X_train, y_train).get_support().astype('int8'))\n",
    "        result_dict['RF'] = np.add(result_dict['RF'], rf.fit(X_train, y_train).get_support().astype('int8'))\n",
    "        result_dict['LASSO'] = np.add(result_dict['LASSO'], lr.fit(X_train, y_train).get_support().astype('int8'))\n",
    "        result_dict['ADA'] = np.add(result_dict['ADA'], ada.fit(X_train, y_train).get_support().astype('int8'))\n",
    "\n",
    "    result_df = pd.DataFrame.from_dict(result_dict) / n_rep # to obtain the frequency \n",
    "    result_df['mean'] = result_df.mean(axis=1) # add a column showing the averaged frequency across the models\n",
    "\n",
    "    return result_df\n",
    "\n",
    "# get the selection frequency tables and export them as .csv files\n",
    "get_freq(X_GvM, y_GvM, n_rep=1000).to_csv('FeatSel_GvM.csv')\n",
    "get_freq(X_MEN, y_MEN, n_rep=1000).to_csv('FeatSel_MEN.csv')\n"
   ]
  },
  {
   "cell_type": "code",
   "execution_count": 24,
   "metadata": {
    "scrolled": true
   },
   "outputs": [
    {
     "data": {
      "text/html": [
       "<div>\n",
       "<style scoped>\n",
       "    .dataframe tbody tr th:only-of-type {\n",
       "        vertical-align: middle;\n",
       "    }\n",
       "\n",
       "    .dataframe tbody tr th {\n",
       "        vertical-align: top;\n",
       "    }\n",
       "\n",
       "    .dataframe thead th {\n",
       "        text-align: right;\n",
       "    }\n",
       "</style>\n",
       "<table border=\"1\" class=\"dataframe\">\n",
       "  <thead>\n",
       "    <tr style=\"text-align: right;\">\n",
       "      <th></th>\n",
       "      <th>SVC</th>\n",
       "      <th>RF</th>\n",
       "      <th>LASSO</th>\n",
       "      <th>ADA</th>\n",
       "      <th>average</th>\n",
       "    </tr>\n",
       "  </thead>\n",
       "  <tbody>\n",
       "    <tr>\n",
       "      <th>0</th>\n",
       "      <td>0.0</td>\n",
       "      <td>0.0</td>\n",
       "      <td>0.0</td>\n",
       "      <td>0.0</td>\n",
       "      <td>0.000</td>\n",
       "    </tr>\n",
       "    <tr>\n",
       "      <th>1</th>\n",
       "      <td>0.0</td>\n",
       "      <td>0.3</td>\n",
       "      <td>0.0</td>\n",
       "      <td>0.0</td>\n",
       "      <td>0.075</td>\n",
       "    </tr>\n",
       "    <tr>\n",
       "      <th>2</th>\n",
       "      <td>0.2</td>\n",
       "      <td>0.0</td>\n",
       "      <td>0.0</td>\n",
       "      <td>0.0</td>\n",
       "      <td>0.050</td>\n",
       "    </tr>\n",
       "    <tr>\n",
       "      <th>3</th>\n",
       "      <td>0.0</td>\n",
       "      <td>0.0</td>\n",
       "      <td>0.0</td>\n",
       "      <td>0.0</td>\n",
       "      <td>0.000</td>\n",
       "    </tr>\n",
       "    <tr>\n",
       "      <th>4</th>\n",
       "      <td>0.1</td>\n",
       "      <td>0.3</td>\n",
       "      <td>0.0</td>\n",
       "      <td>0.0</td>\n",
       "      <td>0.100</td>\n",
       "    </tr>\n",
       "    <tr>\n",
       "      <th>...</th>\n",
       "      <td>...</td>\n",
       "      <td>...</td>\n",
       "      <td>...</td>\n",
       "      <td>...</td>\n",
       "      <td>...</td>\n",
       "    </tr>\n",
       "    <tr>\n",
       "      <th>553</th>\n",
       "      <td>0.3</td>\n",
       "      <td>0.1</td>\n",
       "      <td>0.0</td>\n",
       "      <td>0.0</td>\n",
       "      <td>0.100</td>\n",
       "    </tr>\n",
       "    <tr>\n",
       "      <th>554</th>\n",
       "      <td>0.2</td>\n",
       "      <td>0.1</td>\n",
       "      <td>0.0</td>\n",
       "      <td>0.1</td>\n",
       "      <td>0.100</td>\n",
       "    </tr>\n",
       "    <tr>\n",
       "      <th>555</th>\n",
       "      <td>0.6</td>\n",
       "      <td>0.5</td>\n",
       "      <td>0.0</td>\n",
       "      <td>0.0</td>\n",
       "      <td>0.275</td>\n",
       "    </tr>\n",
       "    <tr>\n",
       "      <th>556</th>\n",
       "      <td>0.0</td>\n",
       "      <td>0.1</td>\n",
       "      <td>0.0</td>\n",
       "      <td>0.0</td>\n",
       "      <td>0.025</td>\n",
       "    </tr>\n",
       "    <tr>\n",
       "      <th>557</th>\n",
       "      <td>0.0</td>\n",
       "      <td>0.7</td>\n",
       "      <td>0.0</td>\n",
       "      <td>0.1</td>\n",
       "      <td>0.200</td>\n",
       "    </tr>\n",
       "  </tbody>\n",
       "</table>\n",
       "<p>558 rows × 5 columns</p>\n",
       "</div>"
      ],
      "text/plain": [
       "     SVC   RF  LASSO  ADA  average\n",
       "0    0.0  0.0    0.0  0.0    0.000\n",
       "1    0.0  0.3    0.0  0.0    0.075\n",
       "2    0.2  0.0    0.0  0.0    0.050\n",
       "3    0.0  0.0    0.0  0.0    0.000\n",
       "4    0.1  0.3    0.0  0.0    0.100\n",
       "..   ...  ...    ...  ...      ...\n",
       "553  0.3  0.1    0.0  0.0    0.100\n",
       "554  0.2  0.1    0.0  0.1    0.100\n",
       "555  0.6  0.5    0.0  0.0    0.275\n",
       "556  0.0  0.1    0.0  0.0    0.025\n",
       "557  0.0  0.7    0.0  0.1    0.200\n",
       "\n",
       "[558 rows x 5 columns]"
      ]
     },
     "execution_count": 24,
     "metadata": {},
     "output_type": "execute_result"
    }
   ],
   "source": [
    "result_df"
   ]
  }
 ],
 "metadata": {
  "colab": {
   "name": "GBMvsMET_robust.ipynb",
   "provenance": []
  },
  "kernelspec": {
   "display_name": "Python 3",
   "language": "python",
   "name": "python3"
  },
  "language_info": {
   "codemirror_mode": {
    "name": "ipython",
    "version": 3
   },
   "file_extension": ".py",
   "mimetype": "text/x-python",
   "name": "python",
   "nbconvert_exporter": "python",
   "pygments_lexer": "ipython3",
   "version": "3.8.8"
  }
 },
 "nbformat": 4,
 "nbformat_minor": 1
}
