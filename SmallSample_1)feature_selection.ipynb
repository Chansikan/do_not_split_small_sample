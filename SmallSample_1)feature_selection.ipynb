{
  "nbformat": 4,
  "nbformat_minor": 0,
  "metadata": {
    "colab": {
      "name": "SmallSample-1)feature_selection",
      "provenance": [],
      "collapsed_sections": [],
      "include_colab_link": true
    },
    "kernelspec": {
      "display_name": "Python 3",
      "language": "python",
      "name": "python3"
    },
    "language_info": {
      "codemirror_mode": {
        "name": "ipython",
        "version": 3
      },
      "file_extension": ".py",
      "mimetype": "text/x-python",
      "name": "python",
      "nbconvert_exporter": "python",
      "pygments_lexer": "ipython3",
      "version": "3.8.8"
    }
  },
  "cells": [
    {
      "cell_type": "markdown",
      "metadata": {
        "id": "view-in-github",
        "colab_type": "text"
      },
      "source": [
        "<a href=\"https://colab.research.google.com/github/Chansikan/do_not_split_small_sample/blob/main/SmallSample_1)feature_selection.ipynb\" target=\"_parent\"><img src=\"https://colab.research.google.com/assets/colab-badge.svg\" alt=\"Open In Colab\"/></a>"
      ]
    },
    {
      "cell_type": "markdown",
      "metadata": {
        "id": "vEKScc4Z3V-U"
      },
      "source": [
        "# Radiomics machine learning study with a small sample size: Single random training-test set split may result in unreliable results\n",
        "\n",
        "## 1) Create selection frequency table"
      ]
    },
    {
      "cell_type": "markdown",
      "metadata": {
        "id": "0EM4bP1s5CJu"
      },
      "source": [
        ""
      ]
    },
    {
      "cell_type": "code",
      "metadata": {
        "id": "RRXlylJA3V-d"
      },
      "source": [
        "# import necessary modules\n",
        "import numpy as np\n",
        "import pandas as pd\n",
        "from sklearn.preprocessing import StandardScaler\n",
        "\n",
        "from tqdm import tqdm\n",
        "from sklearn.model_selection import train_test_split\n",
        "from sklearn.feature_selection import SelectFromModel\n",
        "from sklearn.svm import LinearSVC\n",
        "from sklearn.ensemble import RandomForestClassifier, AdaBoostClassifier\n",
        "from sklearn.linear_model import LogisticRegression"
      ],
      "execution_count": 1,
      "outputs": []
    },
    {
      "cell_type": "code",
      "metadata": {
        "colab": {
          "base_uri": "https://localhost:8080/"
        },
        "id": "JwTaLwunC30v",
        "outputId": "6ad058c6-20ae-4308-c5bb-4f0da4381e93"
      },
      "source": [
        "# Upload two data files onto the working directory\n",
        "# 'GvM_cohort.csv' = 'GBM vs. Metastasis' dataset\n",
        "# 'MEN_cohort.csv' = 'Low- vs. High-grade meningioma' dataset\n",
        "\n",
        "df_GvM = pd.read_csv('GvM_cohort.csv')\n",
        "X_GvM = df_GvM.iloc[:, 1:]\n",
        "y_GvM = df_GvM['Label']\n",
        "featName_GvM = X_GvM.columns\n",
        "\n",
        "df_MEN = pd.read_csv('MEN_cohort.csv')\n",
        "X_MEN = df_MEN.iloc[:, 1:]\n",
        "y_MEN = df_MEN['Label']\n",
        "featName_MEN = X_MEN.columns\n",
        "\n",
        "# scaling\n",
        "scaler = StandardScaler()\n",
        "X_GvM = pd.DataFrame(scaler.fit_transform(X_GvM, y_GvM), columns=X_GvM.columns)\n",
        "X_MEN = pd.DataFrame(scaler.fit_transform(X_MEN, y_MEN), columns=X_MEN.columns)\n",
        "\n",
        "print('1) GBM vs. Metastasis dataset: \\n \\\n",
        "    No. of samples and No. of features: {0} \\n \\\n",
        "    Proportions of GBM and Metastasis: {1} and {2} \\n \\\n",
        "    '.format(X_GvM.shape, \n",
        "              round((1 - np.mean(y_GvM)), 2), round(np.mean(y_GvM), 2)))\n",
        "     \n",
        "print('2) Low- vs. High-grade meningioma dataset: \\n \\\n",
        "    No. of samples and No. of features: {0} \\n \\\n",
        "    Proportions of Low-grade and High-grade: {1} and {2} \\n \\\n",
        "    '.format(X_MEN.shape, \n",
        "              round((1 - np.mean(y_MEN)), 2), round(np.mean(y_MEN), 2)))"
      ],
      "execution_count": 6,
      "outputs": [
        {
          "output_type": "stream",
          "text": [
            "1) GBM vs. Metastasis dataset: \n",
            "     No. of samples and No. of features: (167, 558) \n",
            "     Proportions of GBM and Metastasis: 0.65 and 0.35 \n",
            "     \n",
            "2) Low- vs. High-grade meningioma dataset: \n",
            "     No. of samples and No. of features: (258, 186) \n",
            "     Proportions of Low-grade and High-grade: 0.63 and 0.37 \n",
            "     \n"
          ],
          "name": "stdout"
        }
      ]
    },
    {
      "cell_type": "code",
      "metadata": {
        "id": "6b0AC0jQ3V-f"
      },
      "source": [
        "# define function\n",
        "def get_freq(X, y, n_rep):\n",
        "    \n",
        "    result_dict = {key: np.zeros(X.shape[1]) for key in ['SVC', 'RF', 'LASSO', 'ADA']}\n",
        "\n",
        "    for rs in tqdm(range(n_rep)):\n",
        "        X_train, X_test, y_train, y_test = \\\n",
        "              train_test_split(X, y, test_size=0.3, stratify=y, shuffle=True, random_state=rs)\n",
        "\n",
        "        # 4 feature selectors based on linear SVC, random forest, LASSO, and adaptive boosting \n",
        "        svc = SelectFromModel(LinearSVC(max_iter=10000, dual=False, random_state=0))\n",
        "        rf = SelectFromModel(RandomForestClassifier(random_state=0))\n",
        "        lr = SelectFromModel(LogisticRegression(penalty='l1', solver='liblinear',\n",
        "                                                max_iter=10000, dual=False, random_state=0))\n",
        "        ada = SelectFromModel(AdaBoostClassifier(random_state=0))\n",
        "\n",
        "        # add one count to each of the selected features\n",
        "        result_dict['SVC'] = np.add(result_dict['SVC'], svc.fit(X_train, y_train).get_support().astype('int8'))\n",
        "        result_dict['RF'] = np.add(result_dict['RF'], rf.fit(X_train, y_train).get_support().astype('int8'))\n",
        "        result_dict['LASSO'] = np.add(result_dict['LASSO'], lr.fit(X_train, y_train).get_support().astype('int8'))\n",
        "        result_dict['ADA'] = np.add(result_dict['ADA'], ada.fit(X_train, y_train).get_support().astype('int8'))\n",
        "\n",
        "    result_df = pd.DataFrame.from_dict(result_dict) / n_rep # to obtain the frequency \n",
        "    result_df['mean'] = result_df.mean(axis=1) # add a column showing the averaged frequency across the models\n",
        "\n",
        "    return result_df\n",
        "\n"
      ],
      "execution_count": 4,
      "outputs": []
    },
    {
      "cell_type": "code",
      "metadata": {
        "colab": {
          "base_uri": "https://localhost:8080/"
        },
        "id": "UJwZsCRa5a9r",
        "outputId": "e5b136a2-dbe5-4461-b6f7-07ec4f143b0f"
      },
      "source": [
        "# get the selection frequency tables and export them as .csv files\n",
        "frq_GvM = get_freq(X_GvM, y_GvM, n_rep=1000)\n",
        "frq_GvM.index = featName_GvM\n",
        "frq_GvM.to_csv('FeatSel_GvM.csv')\n",
        "\n",
        "frq_MEN = get_freq(X_MEN, y_MEN, n_rep=1000)\n",
        "frq_MEN.index = featName_MEN\n",
        "frq_MEN.to_csv('FeatSel_MEN.csv')"
      ],
      "execution_count": 5,
      "outputs": [
        {
          "output_type": "stream",
          "text": [
            "100%|██████████| 1000/1000 [13:55<00:00,  1.20it/s]\n",
            "100%|██████████| 1000/1000 [08:48<00:00,  1.89it/s]\n"
          ],
          "name": "stderr"
        }
      ]
    }
  ]
}