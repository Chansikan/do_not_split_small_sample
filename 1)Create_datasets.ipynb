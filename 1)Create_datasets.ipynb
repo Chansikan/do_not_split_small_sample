{
  "nbformat": 4,
  "nbformat_minor": 0,
  "metadata": {
    "colab": {
      "name": "1)Create_datasets",
      "provenance": [],
      "collapsed_sections": [],
      "include_colab_link": true
    },
    "kernelspec": {
      "display_name": "Python 3",
      "language": "python",
      "name": "python3"
    },
    "language_info": {
      "codemirror_mode": {
        "name": "ipython",
        "version": 3
      },
      "file_extension": ".py",
      "mimetype": "text/x-python",
      "name": "python",
      "nbconvert_exporter": "python",
      "pygments_lexer": "ipython3",
      "version": "3.8.8"
    }
  },
  "cells": [
    {
      "cell_type": "markdown",
      "metadata": {
        "id": "view-in-github",
        "colab_type": "text"
      },
      "source": [
        "<a href=\"https://colab.research.google.com/github/Chansikan/do_not_split_small_sample/blob/main/1)Create_datasets.ipynb\" target=\"_parent\"><img src=\"https://colab.research.google.com/assets/colab-badge.svg\" alt=\"Open In Colab\"/></a>"
      ]
    },
    {
      "cell_type": "markdown",
      "metadata": {
        "id": "vEKScc4Z3V-U"
      },
      "source": [
        "# Radiomics machine learning study with a small sample size: Single random training-test set split may lead to unreliable results: Creating datasets for analyses"
      ]
    },
    {
      "cell_type": "code",
      "metadata": {
        "id": "RRXlylJA3V-d"
      },
      "source": [
        "# import necessary modules\n",
        "import numpy as np\n",
        "import pandas as pd\n",
        "from tqdm import tqdm\n",
        "\n",
        "from sklearn.pipeline import Pipeline\n",
        "from sklearn.preprocessing import StandardScaler\n",
        "from sklearn.model_selection import train_test_split, GridSearchCV, cross_val_score\n",
        "from sklearn.feature_selection import SelectKBest, f_classif\n",
        "from sklearn.linear_model import LogisticRegression\n",
        "from sklearn.metrics import roc_auc_score\n",
        "\n",
        "# run an external python code for DeLong method\n",
        "# Upload a file named 'delong.py' onto the working directory\n",
        "%run 'delong.py'"
      ],
      "execution_count": 2,
      "outputs": []
    },
    {
      "cell_type": "code",
      "metadata": {
        "colab": {
          "base_uri": "https://localhost:8080/"
        },
        "id": "JwTaLwunC30v",
        "outputId": "d3d09b7e-2309-4db3-ab63-c73ab8c9b67c"
      },
      "source": [
        "# Upload 4 files onto the working directory:\n",
        "# 'GvM_cohort.csv'\n",
        "# 'GvM_cohort_undersampled.csv'\n",
        "# 'MEN_cohort.csv'\n",
        "# 'MEN_cohort_undersampled.csv'\n",
        "\n",
        "# 1) GBM vs. Metastasis without undersampling\n",
        "df_GvM = pd.read_csv('GvM_cohort.csv')\n",
        "X_GvM = df_GvM.iloc[:, 1:]\n",
        "y_GvM = df_GvM['Label']\n",
        "\n",
        "print('1) GBM vs. Metastasis dataset: \\n \\\n",
        "    No. of samples and No. of features: {0} \\n \\\n",
        "    Proportions of GBM and Metastasis: {1} and {2} \\n \\\n",
        "    '.format(X_GvM.shape, round((1 - np.mean(y_GvM)), 2), \n",
        "             round(np.mean(y_GvM), 2)))\n",
        "\n",
        "# 2) GBM vs. Metastasis with undersampling\n",
        "df_GvM_under = pd.read_csv('GvM_cohort_undersampled.csv')\n",
        "X_GvM_under = df_GvM_under.iloc[:, 1:]\n",
        "y_GvM_under = df_GvM_under['Label']\n",
        "\n",
        "print('2) Undersampled GBM vs. Metastasis dataset: \\n \\\n",
        "    No. of samples and No. of features: {0} \\n \\\n",
        "    Proportions of GBM and Metastasis: {1} and {2} \\n \\\n",
        "    '.format(X_GvM_under.shape, round((1 - np.mean(y_GvM_under)), 2), \n",
        "             round(np.mean(y_GvM_under), 2)))\n",
        "\n",
        "# 3) Low- vs. High-grade meningioma without undersampling\n",
        "df_MEN = pd.read_csv('MEN_cohort.csv')\n",
        "X_MEN = df_MEN.iloc[:, 1:]\n",
        "y_MEN = df_MEN['Label']\n",
        "\n",
        "print('3) Low- vs. High-grade meningioma dataset: \\n \\\n",
        "    No. of samples and No. of features: {0} \\n \\\n",
        "    Proportions of Low-grade and High-grade: {1} and {2} \\n \\\n",
        "    '.format(X_MEN.shape, round((1 - np.mean(y_MEN)), 2), \n",
        "             round(np.mean(y_MEN), 2)))\n",
        "\n",
        "# 4) Low- vs. High-grade meningioma with undersampling\n",
        "df_MEN_under = pd.read_csv('MEN_cohort_undersampled.csv')\n",
        "X_MEN_under = df_MEN_under.iloc[:, 1:]\n",
        "y_MEN_under = df_MEN_under['Label']\n",
        "\n",
        "print('4) Undersampled Low- vs. High-grade meningioma dataset: \\n \\\n",
        "    No. of samples and No. of features: {0} \\n \\\n",
        "    Proportions of Low-grade and High-grade: {1} and {2} \\n \\\n",
        "    '.format(X_MEN_under.shape, round((1 - np.mean(y_MEN_under)), 2), \n",
        "             round(np.mean(y_MEN_under), 2)))\n"
      ],
      "execution_count": 3,
      "outputs": [
        {
          "output_type": "stream",
          "text": [
            "1) GBM vs. Metastasis dataset: \n",
            "     No. of samples and No. of features: (167, 558) \n",
            "     Proportions of GBM and Metastasis: 0.65 and 0.35 \n",
            "     \n",
            "2) Undersampled GBM vs. Metastasis dataset: \n",
            "     No. of samples and No. of features: (83, 558) \n",
            "     Proportions of GBM and Metastasis: 0.65 and 0.35 \n",
            "     \n",
            "3) Low- vs. High-grade meningioma dataset: \n",
            "     No. of samples and No. of features: (258, 186) \n",
            "     Proportions of Low-grade and High-grade: 0.63 and 0.37 \n",
            "     \n",
            "4) Low- vs. High-grade meningioma dataset: \n",
            "     No. of samples and No. of features: (129, 186) \n",
            "     Proportions of Low-grade and High-grade: 0.63 and 0.37 \n",
            "     \n"
          ],
          "name": "stdout"
        }
      ]
    },
    {
      "cell_type": "markdown",
      "metadata": {
        "id": "3V-1NVQxyzjX"
      },
      "source": [
        "## 1) Model stability by No. of input variables, task difficulty, and No. of samples"
      ]
    },
    {
      "cell_type": "code",
      "metadata": {
        "id": "3iD3dEOnVHUZ"
      },
      "source": [
        "def get_auc_by_nfeat(file_data, cv, combs):\n",
        "\n",
        "  df = pd.read_csv(file_data)\n",
        "  X = df.iloc[:, 1:]\n",
        "  y = df.loc[:, 'Label']\n",
        "    \n",
        "  result_df = pd.DataFrame()\n",
        "  for (rs, n_feat) in tqdm(combs):\n",
        "    # splitting\n",
        "    X_train, X_test, y_train, y_test = \\\n",
        "      train_test_split(X, y, test_size=0.3, stratify=y, shuffle=True, random_state=rs)\n",
        "\n",
        "    # standardization\n",
        "    scaler = StandardScaler()\n",
        "    X_train = scaler.fit_transform(X_train, y_train)\n",
        "    X_test = scaler.transform(X_test)\n",
        "\n",
        "    # feature selection\n",
        "    selector = SelectKBest(f_classif, k=n_feat)\n",
        "    X_train = selector.fit_transform(X_train, y_train)\n",
        "    X_test = selector.transform(X_test)\n",
        "\n",
        "    # cross-validated AUC in the training set\n",
        "    clf =  LogisticRegression(penalty='l1', solver='liblinear', max_iter=10000, \n",
        "                              dual=False, random_state=0)\n",
        "    CV_score = cross_val_score(clf, X_train, y_train, scoring='roc_auc', cv=cv)\n",
        "    CV_mean = np.mean(CV_score)\n",
        "    CV_sd = np.std(CV_score)\n",
        "\n",
        "    # model fitting and testing in the training and test sets, respectively\n",
        "    clf.fit(X_train, y_train)\n",
        "    y_pred = clf.predict_proba(X_test)\n",
        "    test_auc = roc_auc_score(y_test, y_pred[:, 1])\n",
        "\n",
        "    row = pd.DataFrame({'Random_state': rs,\n",
        "                        'Num_features': n_feat,\n",
        "                        'CV_AUC': round(CV_mean, 3), \n",
        "                        'CV_AUC_SD': round(CV_sd, 3),\n",
        "                        'Test_AUC': round(test_auc, 3)}, index = [rs])\n",
        "    result_df = pd.concat([result_df, row], axis=0)\n",
        "  \n",
        "  return result_df"
      ],
      "execution_count": 4,
      "outputs": []
    },
    {
      "cell_type": "code",
      "metadata": {
        "id": "uWRuNzDyXlUl"
      },
      "source": [
        "combs = [(rs, n_feat) \n",
        "         for rs in range(1000) \n",
        "         for n_feat in range(1, 151)]"
      ],
      "execution_count": 5,
      "outputs": []
    },
    {
      "cell_type": "code",
      "metadata": {
        "id": "OOD_P1wmUijH"
      },
      "source": [
        "get_auc_by_nfeat('GvM_cohort.csv', \n",
        "                 cv=5, combs=combs).to_csv('GvM_full_by_nfeat.csv')"
      ],
      "execution_count": null,
      "outputs": []
    },
    {
      "cell_type": "code",
      "metadata": {
        "id": "DW7QKw_KTaHS"
      },
      "source": [
        "get_auc_by_nfeat('GvM_cohort_undersampled.csv', \n",
        "                 cv=5, combs=combs).to_csv('GvM_under_by_nfeat.csv')"
      ],
      "execution_count": null,
      "outputs": []
    },
    {
      "cell_type": "code",
      "metadata": {
        "id": "FMWH7z7fUdW2"
      },
      "source": [
        "get_auc_by_nfeat('MEN_cohort.csv', \n",
        "                 cv=5, combs=combs).to_csv('MEN_full_by_nfeat.csv')"
      ],
      "execution_count": null,
      "outputs": []
    },
    {
      "cell_type": "code",
      "metadata": {
        "id": "b4RfRiUlUeSv"
      },
      "source": [
        "get_auc_by_nfeat('MEN_cohort_undersampled.csv', \n",
        "                 cv=5, combs=combs).to_csv('MEN_under_by_nfeat.csv')"
      ],
      "execution_count": null,
      "outputs": []
    },
    {
      "cell_type": "markdown",
      "metadata": {
        "id": "Q2jyhSs-UmiW"
      },
      "source": [
        "## 2) Model stability with hyperparameter tuning"
      ]
    },
    {
      "cell_type": "code",
      "metadata": {
        "id": "stWGgYTr-ZAM"
      },
      "source": [
        "def get_auc_gridsearch(file_data, rep, cv, params):\n",
        "\n",
        "  df = pd.read_csv(file_data)\n",
        "  X = df.iloc[:, 1:]\n",
        "  y = df.loc[:, 'Label']\n",
        "\n",
        "  result_df = pd.DataFrame()\n",
        "  for rs in tqdm(range(rep)):\n",
        "    X_train, X_test, y_train, y_test = \\\n",
        "          train_test_split(X, y, test_size=0.3, stratify=y, \n",
        "                          shuffle=True, random_state=rs)\n",
        "\n",
        "    pipe = Pipeline([('scaler', StandardScaler()), \n",
        "                    ('fs', SelectKBest(f_classif)),\n",
        "                    ('clf', LogisticRegression(penalty='l1', solver='liblinear',\n",
        "                            max_iter=10000, dual=False, random_state=0))])\n",
        "\n",
        "    search = GridSearchCV(pipe, param_grid=params, scoring='roc_auc', cv=cv)\n",
        "    search.fit(X_train, y_train)\n",
        "\n",
        "    best_nfeat = search.best_params_['fs__k']\n",
        "    best_C = search.best_params_['clf__C']\n",
        "    \n",
        "    auc_list = []\n",
        "    for j in range(cv): \n",
        "        key = 'split'+ str(j) + '_test_score'\n",
        "        auc = search.cv_results_[key][search.best_index_]\n",
        "        auc_list.append(auc)\n",
        "\n",
        "    CV_AUC = np.mean(auc_list)\n",
        "    CV_AUC_SD = np.std(auc_list)\n",
        "\n",
        "    y_pred = search.predict_proba(X_test)\n",
        "    Test_AUC = roc_auc_score(y_test, y_pred[:, 1]) \n",
        "\n",
        "    auc, auc_cov = delong_roc_variance(y_test, y_pred[:, 1])\n",
        "    auc_std = np.sqrt(auc_cov)\n",
        "    lower_upper_q = np.abs(np.array([0, 1]) - (1 - 0.95) / 2)\n",
        "    ci = stats.norm.ppf(lower_upper_q, loc=auc, scale=auc_std)\n",
        "    ci[ci > 1] = 1\n",
        "\n",
        "    row = pd.DataFrame({'Random_state': rs,\n",
        "                        'Optimal_Nfeat': best_nfeat,\n",
        "                        'Optimal_C': best_C,\n",
        "                        'CV_AUC': CV_AUC, 'CV_AUC_SD': CV_AUC_SD,\n",
        "                        'Test_AUC': Test_AUC,\n",
        "                        'CV_AUC_lowCI': ci[0], \n",
        "                        'CV_AUC_highCI': ci[1]}, index = [0])\n",
        "\n",
        "    result_df = pd.concat([result_df, row], axis=0)\n",
        "\n",
        "  return result_df"
      ],
      "execution_count": 8,
      "outputs": []
    },
    {
      "cell_type": "code",
      "metadata": {
        "id": "26svzjRq_ztt"
      },
      "source": [
        "# define a hyperparameter grid for the ML model\n",
        "C_list = list(np.arange(0.01, 0.1, 0.02)) + \\\n",
        "         list(np.arange(0.1, 1, 0.2)) + \\\n",
        "         list(np.arange(1, 2, 0.5)) + \\\n",
        "         list(np.arange(2, 10, 2))\n",
        "params = {'fs__k': range(20, 55, 5), 'clf__C': C_list}"
      ],
      "execution_count": 9,
      "outputs": []
    },
    {
      "cell_type": "code",
      "metadata": {
        "id": "tGTsEZt6uqHQ"
      },
      "source": [
        "get_auc_gridsearch('GvM_cohort.csv', \n",
        " rep=1000, cv=5, params=params).to_csv('GvM_full_search.csv')"
      ],
      "execution_count": null,
      "outputs": []
    },
    {
      "cell_type": "code",
      "metadata": {
        "id": "F_wI5C2q-L36"
      },
      "source": [
        "get_auc_gridsearch('GvM_cohort_undersampled.csv', \n",
        " rep=1000, cv=5, params=params).to_csv('GvM_under_search.csv')"
      ],
      "execution_count": null,
      "outputs": []
    },
    {
      "cell_type": "code",
      "metadata": {
        "id": "UdDIWtEpFdvD"
      },
      "source": [
        "get_auc_gridsearch('MEN_cohort.csv', \n",
        " rep=1000, cv=5, params=params).to_csv('MEN_full_search.csv')"
      ],
      "execution_count": null,
      "outputs": []
    },
    {
      "cell_type": "code",
      "metadata": {
        "id": "7BxJtc6kFd48"
      },
      "source": [
        "get_auc_gridsearch('MEN_cohort_undersampled.csv', \n",
        " rep=1000, cv=5, params=params).to_csv('MEN_under_search.csv')"
      ],
      "execution_count": null,
      "outputs": []
    }
  ]
}
